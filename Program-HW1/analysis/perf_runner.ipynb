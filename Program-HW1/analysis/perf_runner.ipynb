{
  "cells": [
    {
      "cell_type": "markdown",
      "metadata": {
        "colab_type": "text",
        "id": "view-in-github"
      },
      "source": [
        "<a href=\"https://colab.research.google.com/github/geraldmc/algo-bio/blob/main/Program-HW1/analysis/perf_runner.ipynb\" target=\"_parent\"><img src=\"https://colab.research.google.com/assets/colab-badge.svg\" alt=\"Open In Colab\"/></a>"
      ]
    },
    {
      "cell_type": "code",
      "execution_count": null,
      "metadata": {
        "id": "dtuEA2sy21LH"
      },
      "outputs": [],
      "source": [
        "# -*- coding: utf-8 -*-\n",
        "\n",
        "from math import pow\n",
        "from math import log2\n",
        "from math import factorial\n",
        "\n",
        "N=4\n",
        "\n",
        "# benchmark data generation\n",
        "brutecounts = [0,] # placeholder for brute\n",
        "Strassencounts = [0,]\n",
        "yVals1 = [0,] # cubic for O(n^3)\n",
        "yVals2 = [0,] # slightly less than cubic for O(n^2.8)\n",
        "\n",
        "# generate bench mark data for O(n^3), O(n^2.8)\n",
        "for i in range(2, N+1):\n",
        "    brutecounts.append(round(pow(i, 2.99), 2))\n",
        "    Strassencounts.append(round(pow(i, 2.75), 2))\n",
        "    yVals1.append(pow(i, 3))\n",
        "    yVals2.append(round(pow(i, 2.8), 2))\n",
        "\n",
        "# %matplotlib inline\n",
        "import matplotlib.pyplot as plt\n",
        "\n",
        "# Brute vs. Strassen execution steps\n",
        "plt.rcParams['figure.figsize'] = [10,10]\n",
        "fig, (ax1) = plt.subplots(1, 1)\n",
        "fig.suptitle('Runtime Analysis', size=\"xx-large\")\n",
        "\n",
        "ax1.set_title('Brute Force vs. Strassen', size=\"x-large\")\n",
        "ax1.plot(range(N), brutecounts, \"rx-\", markersize=10, linewidth=4, label=\"Brute\")\n",
        "ax1.plot(range(N), Strassencounts, \"gx-\", markersize=10, linewidth=4, label=\"Strassen\")\n",
        "ax1.plot(range(N), yVals1, \"m^-\", markersize=0, linewidth=1, label=\"benchmark O(n^3)\")\n",
        "ax1.plot(range(N), yVals2, \"lime\", markersize=0, linewidth=1, label=\"benchmark O(n^2.8)\")\n",
        "ax1.grid(b=True, which='major', axis='both')\n",
        "ax1.set(xlabel = 'Matrix SIZE (N)', ylabel = 'TIMES')\n",
        "ax1.legend(loc=(0.05,0.65), scatterpoints=1)\n",
        "ax1.tick_params(axis=\"both\", which=\"major\", labelsize=14)"
      ]
    }
  ],
  "metadata": {
    "colab": {
      "authorship_tag": "ABX9TyOGNltlhqr4j4CvkjmqiEuw",
      "include_colab_link": true,
      "provenance": []
    },
    "kernelspec": {
      "display_name": "Python 3.9.10 64-bit",
      "language": "python",
      "name": "python3"
    },
    "language_info": {
      "name": "python",
      "version": "3.9.10"
    },
    "vscode": {
      "interpreter": {
        "hash": "b0fa6594d8f4cbf19f97940f81e996739fb7646882a419484c72d19e05852a7e"
      }
    }
  },
  "nbformat": 4,
  "nbformat_minor": 0
}
