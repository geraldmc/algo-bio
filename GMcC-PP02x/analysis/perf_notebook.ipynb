{
  "cells": [
    {
      "cell_type": "code",
      "execution_count": 1,
      "metadata": {
        "id": "fQDEyoltfk-A"
      },
      "outputs": [],
      "source": [
        "import sys\n",
        "import os"
      ]
    },
    {
      "cell_type": "code",
      "execution_count": null,
      "metadata": {
        "colab": {
          "base_uri": "https://localhost:8080/"
        },
        "id": "yE0d1-USfk-B",
        "outputId": "644aafea-9efa-4564-9ac1-57170d6f0beb"
      },
      "outputs": [],
      "source": [
        "if os.path.isdir(\"/content/algo-bio/\"):\n",
        "  print ('Have already downloaded the project file, continuing...')\n",
        "  print()\n",
        "else:\n",
        "  print ('Downloading file...')\n",
        "  !git clone https://github.com/geraldmc/algo-bio.git"
      ]
    },
    {
      "cell_type": "code",
      "execution_count": 3,
      "metadata": {
        "colab": {
          "base_uri": "https://localhost:8080/"
        },
        "id": "J1urkj9Afk-B",
        "outputId": "58ae1a22-81e9-4cd6-e788-69cb5684b1f9"
      },
      "outputs": [
        {
          "name": "stdout",
          "output_type": "stream",
          "text": [
            "/content/algo-bio/GMcC-PP02x\n"
          ]
        }
      ],
      "source": [
        "%cd /content/algo-bio/GMcC-PP02x/"
      ]
    },
    {
      "cell_type": "code",
      "execution_count": 4,
      "metadata": {
        "id": "NUHK1Km3fk-B"
      },
      "outputs": [],
      "source": [
        "from analysis.metrics import *\n",
        "from hashtables.LinearProbing import LinearProbing\n",
        "from hashtables.QuadraticProbing import QuadraticProbing\n",
        "from hashtables.SeparateChaining import SeparateChaining\n",
        "from filehandler.io import pre_process"
      ]
    },
    {
      "cell_type": "code",
      "execution_count": 5,
      "metadata": {
        "id": "kSdQTxIbfk-B"
      },
      "outputs": [],
      "source": [
        "data = []\n",
        "data_path = '/content/algo-bio/GMcC-PP02x/data/extra.txt'\n",
        "raw_input = pre_process(data_path)\n",
        "for s in raw_input:\n",
        "  data.append([int(i) for i in s]) # convert to ints  \n",
        "data = [item for sub in data for item in sub]"
      ]
    },
    {
      "cell_type": "code",
      "execution_count": 6,
      "metadata": {
        "id": "o_wqv1m-fk-B"
      },
      "outputs": [],
      "source": [
        "# ===== GROUP 1 Division modulo 120, bucket size=1 =============================\n",
        "\n",
        "# Linear Probing, division modulo 120, bucket size=1 ---------------------------\n",
        "lph1 = LinearProbing(modulus=120, slot_depth=1, slot_size=120, hash_method=1)\n",
        "lfa_lph1 = []\n",
        "ca_lph1 = []\n",
        "for item in data:\n",
        "  lph1.insert(item)\n",
        "  lfa_lph1.append(round(lph1.load_factor,3))\n",
        "  ca_lph1.append(str(lph1.collisions))\n",
        "\n",
        "# Quadratic Probing, division modulo 120, bucket size=1 ------------------------\n",
        "qph1 = QuadraticProbing(modulus=120, slot_depth=1, slot_size=120, hash_method=1)\n",
        "lfa_qph1 = []\n",
        "ca_qph1 = []\n",
        "for item in data:\n",
        "  qph1.insert(item)\n",
        "  lfa_qph1.append(round(qph1.load_factor,3))\n",
        "  ca_qph1.append(str(qph1.collisions))\n",
        "\n",
        "# Separate Chaining, division modulo 120, bucket size=1 ------------------------\n",
        "sch1 = SeparateChaining(modulus=120, slot_size=120, hash_method=1)\n",
        "lfa_sch1 = []\n",
        "ca_sch1 = []\n",
        "for item in data:\n",
        "  sch1.insert(item)\n",
        "  lfa_sch1.append(round(sch1.load_factor,3))\n",
        "  ca_sch1.append(str(sch1.collisions))\n",
        "\n",
        "# ===== GROUP 2 Division modulo 113, bucket size=1 =============================\n",
        "\n",
        "# Linear Probing, Division modulo 113, bucket size=1\n",
        "lph2 = LinearProbing(modulus=113, slot_depth=1, slot_size=120, hash_method=1)\n",
        "lfa_lph2 = []\n",
        "ca_lph2 = []\n",
        "for item in data:\n",
        "  lph2.insert(item)\n",
        "  lfa_lph2.append(round(lph2.load_factor,3))\n",
        "  ca_lph2.append(str(lph2.collisions))\n",
        "\n",
        "# Quadratic Probing, Division modulo 113, bucket size=1 ------------------------\n",
        "qph2 = QuadraticProbing(modulus=113, slot_depth=1, slot_size=120, hash_method=1)\n",
        "lfa_qph2 = []\n",
        "ca_qph2 = []\n",
        "for item in data:\n",
        "  qph2.insert(item)\n",
        "  lfa_qph2.append(round(qph2.load_factor,3))\n",
        "  ca_qph2.append(str(qph2.collisions))\n",
        "\n",
        "# Separate Chaining, division modulo 113, bucket size=1-------------------------\n",
        "sch2 = SeparateChaining(modulus=113, slot_depth=1, slot_size=120, hash_method=1)\n",
        "lfa_sch2 = []\n",
        "ca_sch2 = []\n",
        "for item in data:\n",
        "  sch2.insert(item)\n",
        "  lfa_sch2.append(round(sch2.load_factor,3))\n",
        "  ca_sch2.append(str(sch2.collisions))\n",
        "\n",
        "# ===== GROUP 3 Division modulo 41, bucket size=3 ==============================\n",
        "\n",
        "# Linear Probing, Division modulo 113, bucket size=1\n",
        "lph3 = LinearProbing(modulus=113, slot_depth=1, slot_size=120, hash_method=1)\n",
        "lfa_lph3 = []\n",
        "ca_lph3 = []\n",
        "for item in data:\n",
        "  lph3.insert(item)\n",
        "  lfa_lph3.append(round(lph3.load_factor,3))\n",
        "  ca_lph3.append(str(lph3.collisions))\n",
        "\n",
        "# Quadratic Probing, Division modulo 113, bucket size=1, hash_method=division (1)\n",
        "qph3 = QuadraticProbing(modulus=113, slot_depth=1, slot_size=120, hash_method=1)\n",
        "lfa_qph3 = []\n",
        "ca_qph3 = []\n",
        "for item in data:\n",
        "  qph3.insert(item)\n",
        "  lfa_qph3.append(round(qph3.load_factor,3))\n",
        "  ca_qph3.append(str(qph3.collisions))\n",
        "\n",
        "# ===== GROUP 4 Division modulo 120, bucket size=1, hash_method=multiplicative (2)\n",
        "\n",
        "# Linear Probing, Division modulo 120, bucket size=1\n",
        "lph4 = LinearProbing(modulus=113, slot_depth=1, slot_size=120, hash_method=2)\n",
        "lfa_lph4 = []\n",
        "ca_lph4 = []\n",
        "for item in data:\n",
        "  lph4.insert(item)\n",
        "  lfa_lph4.append(round(lph4.load_factor,3))\n",
        "  ca_lph4.append(str(lph4.collisions))\n",
        "\n",
        "# Quadratic Probing, Division modulo 120, bucket size=1, hash_method=1 ---------\n",
        "qph4 = QuadraticProbing(modulus=113, slot_depth=1, slot_size=120, hash_method=1)\n",
        "lfa_qph4 = []\n",
        "ca_qph4 = []\n",
        "for item in data:\n",
        "  qph4.insert(item)\n",
        "  lfa_qph4.append(round(qph4.load_factor,3))\n",
        "  ca_qph4.append(str(qph4.collisions))\n",
        "\n",
        "# Separate Chaining, division modulo 120, bucket size=1, hash_method=1----------\n",
        "sch4 = SeparateChaining(modulus=113, slot_depth=1, slot_size=120, hash_method=1)\n",
        "lfa_sch4 = []\n",
        "ca_sch4 = []\n",
        "for item in data:\n",
        "  sch4.insert(item)\n",
        "  lfa_sch4.append(round(sch4.load_factor,3))\n",
        "  ca_sch4.append(str(sch4.collisions))"
      ]
    },
    {
      "cell_type": "code",
      "execution_count": 7,
      "metadata": {
        "colab": {
          "base_uri": "https://localhost:8080/",
          "height": 512
        },
        "id": "wJIwfQgcfk-C",
        "outputId": "00c53a60-8518-4641-9da6-44f58ac06d69"
      },
      "outputs": [
        {
          "data": {
            "image/png": "[encoded data removed]",
            "text/plain": [
              "<Figure size 576x576 with 1 Axes>"
            ]
          },
          "metadata": {
            "needs_background": "light"
          },
          "output_type": "display_data"
        }
      ],
      "source": [
        "N=len(lfa_lph1) # 60 for required input. \n",
        "\n",
        "import matplotlib.pyplot as plt\n",
        "\n",
        "plt.rcParams['figure.figsize'] = [8,8]\n",
        "fig, (ax1) = plt.subplots(1, 1)\n",
        "ax1.set_title('Linear Probe Group #4', size=\"xx-large\")\n",
        "# GROUP 1 [lfa_lph1,ca_lph1; lfa_qph1,ca_qph1; lfa_sch1,ca_sch1]\n",
        "\n",
        "ax1.plot(lfa_lph1, ca_lph1, \"y^-\", markersize=8, linewidth=3, label=\"Linear Probe Group #4\")\n",
        "ax1.set_yticks(ca_lph1[::28])\n",
        "#LINEAR PROBE HASH TABLE - modulus=120, slot depth=1, slot size=120, hashing method=2.\n",
        "\n",
        "ax1.grid(b=False, which='major', axis='both')\n",
        "ax1.legend(loc=(0.05,0.65), scatterpoints=1)\n",
        "ax1.tick_params(axis=\"both\", which=\"major\", labelsize=20)"
      ]
    }
  ],
  "metadata": {
    "colab": {
      "provenance": []
    },
    "kernelspec": {
      "display_name": "Python 3",
      "language": "python",
      "name": "python3"
    },
    "language_info": {
      "name": "python",
      "version": "3.9.10 (main, Jan 15 2022, 11:40:53) \n[Clang 13.0.0 (clang-1300.0.29.3)]"
    },
    "orig_nbformat": 4,
    "vscode": {
      "interpreter": {
        "hash": "b0fa6594d8f4cbf19f97940f81e996739fb7646882a419484c72d19e05852a7e"
      }
    }
  },
  "nbformat": 4,
  "nbformat_minor": 0
}
